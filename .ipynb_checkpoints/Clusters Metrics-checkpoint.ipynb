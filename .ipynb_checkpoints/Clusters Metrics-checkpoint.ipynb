{
 "cells": [
  {
   "cell_type": "markdown",
   "metadata": {},
   "source": [
    "⬇ Import Libraries:"
   ]
  },
  {
   "cell_type": "code",
   "execution_count": 56,
   "metadata": {},
   "outputs": [],
   "source": [
    "import pandas as pd\n",
    "import numpy as np\n",
    "import matplotlib.pyplot as plt\n",
    "import os\n",
    "import re\n",
    "import doctest"
   ]
  },
  {
   "cell_type": "markdown",
   "metadata": {},
   "source": [
    "🔄 Related Functions:"
   ]
  },
  {
   "cell_type": "code",
   "execution_count": 136,
   "metadata": {},
   "outputs": [],
   "source": [
    "def Extract_Key_From_Filename(File_Name):\n",
    "    \"\"\"\n",
    "    The Purpose of this function is:\n",
    "    Extracting a Proper key from file name \n",
    "    for DataFrame dictionary\n",
    "    Input: File_Name:String\n",
    "    Output: Key_Name:String\n",
    "    >>> Extract_Key_From_Filename(\"02b-breast-cancer-wisconsin.data\")\n",
    "    'breast-cancer-wisconsin'\n",
    "    \"\"\"\n",
    "    start=File_Name.index(\"-\")\n",
    "    stop=File_Name.index(\".\")\n",
    "    Key_Name=File_Name[start+1:stop]\n",
    "    return Key_Name\n",
    "\n",
    "\n",
    "\n",
    "def Extract_Column_Name_From_File(File_Name_Address):\n",
    "    \"\"\"\n",
    "    The purpose of this function is:\n",
    "    Extracting columns names from .name file\n",
    "    for desired DataFrame\n",
    "    input:File Address:String\n",
    "    output:Columns name:list\n",
    "    \"\"\"\n",
    "    \n",
    "    \n",
    "    def Cleaning_Column_lines(Column_line):\n",
    "            \"\"\"\n",
    "            We use this function for finding column names \n",
    "            in different format\n",
    "            this will be used with map \n",
    "            Input:Column line : String\n",
    "            Output:Column name: String\n",
    "            >>> Cleaning_Column_lines(\"1. Sample code number            id number\")\n",
    "            'Sample code number'\n",
    "            >>> Cleaning_Column_lines(\"1. sepal length in cm\")\n",
    "            'sepal length in cm'\n",
    "            >>> Cleaning_Column_lines(\"1.  Sequence Name: Accession number for the SWISS-PROT database\")\n",
    "            'Sequence Name'\n",
    "            \"\"\"\n",
    "            start=Column_line.index(\".\")\n",
    "            list_char_to_check=[\":\",\"  \"]\n",
    "            stop=0\n",
    "            for char in list_char_to_check:\n",
    "                try:\n",
    "                    position=Column_line.index(char)\n",
    "\n",
    "                except:\n",
    "                    pass\n",
    "\n",
    "                else:\n",
    "                    stop=position\n",
    "                    break\n",
    "\n",
    "            if stop==0:\n",
    "                stop=len(Column_line)\n",
    "            return(str.strip(Column_line[start+1:stop]))\n",
    "                \n",
    "            \n",
    "        \n",
    "    File=open(File_Name_Address,mode='r')\n",
    "    text=File.read()\n",
    "    Columns_section=text[text.index(\"7. Attribute Information\"):text.index(\"8. Missing attribute values\")]\n",
    "    pattern=r\"\\d[.]\\s+.*\"\n",
    "    Columns_list=re.findall(pattern,Columns_section)\n",
    "    \n",
    "    Columns_list=list(map(Cleaning_Column_lines,Columns_list))\n",
    "    print(Columns_list[1:])"
   ]
  },
  {
   "cell_type": "code",
   "execution_count": 137,
   "metadata": {},
   "outputs": [
    {
     "name": "stdout",
     "output_type": "stream",
     "text": [
      "['Sample code number', 'Clump Thickness', 'Uniformity of Cell Size', 'Uniformity of Cell Shape', 'Marginal Adhesion', 'Single Epithelial Cell Size', 'Bare Nuclei', 'Bland Chromatin', 'Normal Nucleoli', 'Mitoses', 'Class']\n"
     ]
    }
   ],
   "source": [
    "Extract_Column_Name_From_File('Raw Data\\\\02a-breast-cancer-wisconsin.names')"
   ]
  },
  {
   "cell_type": "markdown",
   "metadata": {},
   "source": [
    "🎯 Functions Test:"
   ]
  },
  {
   "cell_type": "code",
   "execution_count": 124,
   "metadata": {},
   "outputs": [
    {
     "name": "stdout",
     "output_type": "stream",
     "text": [
      "Trying:\n",
      "    Cleaning_Column_lines(\"1. Sample code number            id number\")\n",
      "Expecting:\n",
      "    'Sample code number'\n",
      "ok\n",
      "Trying:\n",
      "    Cleaning_Column_lines(\"1. sepal length in cm\")\n",
      "Expecting:\n",
      "    'sepal length in cm'\n",
      "ok\n",
      "Trying:\n",
      "    Cleaning_Column_lines(\"1.  Sequence Name: Accession number for the SWISS-PROT database\")\n",
      "Expecting:\n",
      "    'Sequence Name'\n",
      "ok\n",
      "Trying:\n",
      "    Extract_Key_From_Filename(\"02b-breast-cancer-wisconsin.data\")\n",
      "Expecting:\n",
      "    'breast-cancer-wisconsin'\n",
      "ok\n",
      "2 items had no tests:\n",
      "    __main__\n",
      "    __main__.Extract_Column_Name_From_File\n",
      "2 items passed all tests:\n",
      "   3 tests in __main__.Cleaning_Column_lines\n",
      "   1 tests in __main__.Extract_Key_From_Filename\n",
      "4 tests in 4 items.\n",
      "4 passed and 0 failed.\n",
      "Test passed.\n"
     ]
    },
    {
     "data": {
      "text/plain": [
       "TestResults(failed=0, attempted=4)"
      ]
     },
     "execution_count": 124,
     "metadata": {},
     "output_type": "execute_result"
    }
   ],
   "source": [
    "doctest.testmod(verbose=True)"
   ]
  },
  {
   "cell_type": "markdown",
   "metadata": {},
   "source": [
    "⬇ Reading Data: "
   ]
  },
  {
   "cell_type": "code",
   "execution_count": 37,
   "metadata": {},
   "outputs": [],
   "source": [
    "wd=os.getcwd()+\"\\\\Data\"\n",
    "Files_Addresses=os.listdir(wd)\n",
    "DataFrames_Dictionary={}\n",
    "for File in Files_Addresses:\n",
    "    DataFrames_Dictionary[Extract_Key_From_Filename(File)]=pd.read_csv(\"Data\\\\\"+File,header=None)"
   ]
  },
  {
   "cell_type": "markdown",
   "metadata": {},
   "source": [
    "👩‍🔬 DataFrames Analyse"
   ]
  },
  {
   "cell_type": "code",
   "execution_count": 38,
   "metadata": {},
   "outputs": [
    {
     "data": {
      "text/html": [
       "<div>\n",
       "<style scoped>\n",
       "    .dataframe tbody tr th:only-of-type {\n",
       "        vertical-align: middle;\n",
       "    }\n",
       "\n",
       "    .dataframe tbody tr th {\n",
       "        vertical-align: top;\n",
       "    }\n",
       "\n",
       "    .dataframe thead th {\n",
       "        text-align: right;\n",
       "    }\n",
       "</style>\n",
       "<table border=\"1\" class=\"dataframe\">\n",
       "  <thead>\n",
       "    <tr style=\"text-align: right;\">\n",
       "      <th></th>\n",
       "      <th>0</th>\n",
       "      <th>1</th>\n",
       "      <th>2</th>\n",
       "      <th>3</th>\n",
       "      <th>4</th>\n",
       "      <th>5</th>\n",
       "      <th>6</th>\n",
       "      <th>7</th>\n",
       "      <th>8</th>\n",
       "      <th>9</th>\n",
       "      <th>10</th>\n",
       "    </tr>\n",
       "  </thead>\n",
       "  <tbody>\n",
       "    <tr>\n",
       "      <th>0</th>\n",
       "      <td>1000025</td>\n",
       "      <td>5</td>\n",
       "      <td>1</td>\n",
       "      <td>1</td>\n",
       "      <td>1</td>\n",
       "      <td>2</td>\n",
       "      <td>1</td>\n",
       "      <td>3</td>\n",
       "      <td>1</td>\n",
       "      <td>1</td>\n",
       "      <td>2</td>\n",
       "    </tr>\n",
       "    <tr>\n",
       "      <th>1</th>\n",
       "      <td>1002945</td>\n",
       "      <td>5</td>\n",
       "      <td>4</td>\n",
       "      <td>4</td>\n",
       "      <td>5</td>\n",
       "      <td>7</td>\n",
       "      <td>10</td>\n",
       "      <td>3</td>\n",
       "      <td>2</td>\n",
       "      <td>1</td>\n",
       "      <td>2</td>\n",
       "    </tr>\n",
       "    <tr>\n",
       "      <th>2</th>\n",
       "      <td>1015425</td>\n",
       "      <td>3</td>\n",
       "      <td>1</td>\n",
       "      <td>1</td>\n",
       "      <td>1</td>\n",
       "      <td>2</td>\n",
       "      <td>2</td>\n",
       "      <td>3</td>\n",
       "      <td>1</td>\n",
       "      <td>1</td>\n",
       "      <td>2</td>\n",
       "    </tr>\n",
       "    <tr>\n",
       "      <th>3</th>\n",
       "      <td>1016277</td>\n",
       "      <td>6</td>\n",
       "      <td>8</td>\n",
       "      <td>8</td>\n",
       "      <td>1</td>\n",
       "      <td>3</td>\n",
       "      <td>4</td>\n",
       "      <td>3</td>\n",
       "      <td>7</td>\n",
       "      <td>1</td>\n",
       "      <td>2</td>\n",
       "    </tr>\n",
       "    <tr>\n",
       "      <th>4</th>\n",
       "      <td>1017023</td>\n",
       "      <td>4</td>\n",
       "      <td>1</td>\n",
       "      <td>1</td>\n",
       "      <td>3</td>\n",
       "      <td>2</td>\n",
       "      <td>1</td>\n",
       "      <td>3</td>\n",
       "      <td>1</td>\n",
       "      <td>1</td>\n",
       "      <td>2</td>\n",
       "    </tr>\n",
       "  </tbody>\n",
       "</table>\n",
       "</div>"
      ],
      "text/plain": [
       "        0   1   2   3   4   5   6   7   8   9   10\n",
       "0  1000025   5   1   1   1   2   1   3   1   1   2\n",
       "1  1002945   5   4   4   5   7  10   3   2   1   2\n",
       "2  1015425   3   1   1   1   2   2   3   1   1   2\n",
       "3  1016277   6   8   8   1   3   4   3   7   1   2\n",
       "4  1017023   4   1   1   3   2   1   3   1   1   2"
      ]
     },
     "execution_count": 38,
     "metadata": {},
     "output_type": "execute_result"
    }
   ],
   "source": [
    "DataFrame_index=0\n",
    "DataFrames_Names=list(DataFrames_Dictionary.keys())\n",
    "df=DataFrames_Dictionary.get(DataFrames_Names[DataFrame_index])\n",
    "df.head()"
   ]
  }
 ],
 "metadata": {
  "kernelspec": {
   "display_name": "Python 3",
   "language": "python",
   "name": "python3"
  },
  "language_info": {
   "codemirror_mode": {
    "name": "ipython",
    "version": 3
   },
   "file_extension": ".py",
   "mimetype": "text/x-python",
   "name": "python",
   "nbconvert_exporter": "python",
   "pygments_lexer": "ipython3",
   "version": "3.6.8"
  }
 },
 "nbformat": 4,
 "nbformat_minor": 2
}
