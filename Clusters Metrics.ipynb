{
 "cells": [
  {
   "cell_type": "markdown",
   "metadata": {},
   "source": [
    "⬇ Import Libraries:"
   ]
  },
  {
   "cell_type": "code",
   "execution_count": 1,
   "metadata": {},
   "outputs": [],
   "source": [
    "import pandas as pd\n",
    "import numpy as np\n",
    "import matplotlib.pyplot as plt\n",
    "import os\n",
    "import re\n",
    "import doctest"
   ]
  },
  {
   "cell_type": "markdown",
   "metadata": {},
   "source": [
    "🔄 Related Functions:"
   ]
  },
  {
   "cell_type": "code",
   "execution_count": 2,
   "metadata": {},
   "outputs": [],
   "source": [
    "def Extract_Key_From_Filename(File_Name):\n",
    "    \"\"\"\n",
    "    The Purpose of this function is:\n",
    "    Extracting a Proper key from file name \n",
    "    for DataFrame dictionary\n",
    "    Input: File_Name:String\n",
    "    Output: Key_Name:String\n",
    "    >>> Extract_Key_From_Filename(\"02b-breast-cancer-wisconsin.data\")\n",
    "    'breast-cancer-wisconsin'\n",
    "    \"\"\"\n",
    "    start=File_Name.index(\"-\")\n",
    "    stop=File_Name.index(\".\")\n",
    "    Key_Name=File_Name[start+1:stop]\n",
    "    return Key_Name\n",
    "\n",
    "\n",
    "\n",
    "def Extract_Column_Name_From_File(File_Name_Address):\n",
    "    \"\"\"\n",
    "    The purpose of this function is:\n",
    "    Extracting columns names from .name file\n",
    "    for desired DataFrame\n",
    "    input:File Address:String\n",
    "    output:Columns name:list\n",
    "    \"\"\"\n",
    "    \n",
    "    \n",
    "    def Cleaning_Column_lines(Column_line):\n",
    "            \"\"\"\n",
    "            We use this function for finding column names \n",
    "            in different format\n",
    "            this will be used with map \n",
    "            Input:Column line : String\n",
    "            Output:Column name: String\n",
    "            >>> Cleaning_Column_lines(\"1. Sample code number            id number\")\n",
    "            'Sample code number'\n",
    "            >>> Cleaning_Column_lines(\"1. sepal length in cm\")\n",
    "            'sepal length in cm'\n",
    "            >>> Cleaning_Column_lines(\"1.  Sequence Name: Accession number for the SWISS-PROT database\")\n",
    "            'Sequence Name'\n",
    "            \"\"\"\n",
    "            start=Column_line.index(\".\")\n",
    "            list_char_to_check=[\":\",\"  \"]\n",
    "            stop=0\n",
    "            for char in list_char_to_check:\n",
    "                try:\n",
    "                    position=Column_line.index(char)\n",
    "\n",
    "                except:\n",
    "                    pass\n",
    "\n",
    "                else:\n",
    "                    stop=position\n",
    "                    break\n",
    "\n",
    "            if stop==0:\n",
    "                stop=len(Column_line)\n",
    "            return(str.strip(Column_line[start+1:stop]))\n",
    "                \n",
    "            \n",
    "        \n",
    "    File=open(File_Name_Address,mode='r')\n",
    "    text=File.read()\n",
    "    text=text.lower()\n",
    "    Columns_section=text[text.index(\"7. attribute information\"):text.index(\"8. missing attribute values\")]\n",
    "    pattern=r\"\\d[.]\\s+.*\"\n",
    "    Columns_list=re.findall(pattern,Columns_section)\n",
    "    \n",
    "    Columns_list=list(map(Cleaning_Column_lines,Columns_list))\n",
    "    return(Columns_list[1:])"
   ]
  },
  {
   "cell_type": "code",
   "execution_count": 3,
   "metadata": {},
   "outputs": [
    {
     "data": {
      "text/plain": [
       "['sample code number',\n",
       " 'clump thickness',\n",
       " 'uniformity of cell size',\n",
       " 'uniformity of cell shape',\n",
       " 'marginal adhesion',\n",
       " 'single epithelial cell size',\n",
       " 'bare nuclei',\n",
       " 'bland chromatin',\n",
       " 'normal nucleoli',\n",
       " 'mitoses',\n",
       " 'class']"
      ]
     },
     "execution_count": 3,
     "metadata": {},
     "output_type": "execute_result"
    }
   ],
   "source": [
    "Extract_Column_Name_From_File('Raw Data\\\\02a-breast-cancer-wisconsin.names')"
   ]
  },
  {
   "cell_type": "markdown",
   "metadata": {},
   "source": [
    "🎯 Functions Test:"
   ]
  },
  {
   "cell_type": "code",
   "execution_count": 4,
   "metadata": {},
   "outputs": [
    {
     "name": "stdout",
     "output_type": "stream",
     "text": [
      "Trying:\n",
      "    Extract_Key_From_Filename(\"02b-breast-cancer-wisconsin.data\")\n",
      "Expecting:\n",
      "    'breast-cancer-wisconsin'\n",
      "ok\n",
      "2 items had no tests:\n",
      "    __main__\n",
      "    __main__.Extract_Column_Name_From_File\n",
      "1 items passed all tests:\n",
      "   1 tests in __main__.Extract_Key_From_Filename\n",
      "1 tests in 3 items.\n",
      "1 passed and 0 failed.\n",
      "Test passed.\n"
     ]
    },
    {
     "data": {
      "text/plain": [
       "TestResults(failed=0, attempted=1)"
      ]
     },
     "execution_count": 4,
     "metadata": {},
     "output_type": "execute_result"
    }
   ],
   "source": [
    "doctest.testmod(verbose=True)"
   ]
  },
  {
   "cell_type": "markdown",
   "metadata": {},
   "source": [
    "⬇ Reading Data: "
   ]
  },
  {
   "cell_type": "code",
   "execution_count": 5,
   "metadata": {},
   "outputs": [
    {
     "name": "stdout",
     "output_type": "stream",
     "text": [
      "breast-cancer-wisconsin ['02a-breast-cancer-wisconsin.names']\n",
      "ecoli ['03b-ecoli.names']\n",
      "glass ['04b-glass.names']\n",
      "haberman ['05b-haberman.names']\n",
      "iris ['06b-iris.names']\n"
     ]
    }
   ],
   "source": [
    "wd=os.getcwd()+\"\\\\Data\"\n",
    "Files_Addresses=os.listdir(wd)\n",
    "DataFrames_Dictionary={}\n",
    "for File in list(filter(lambda X:X.endswith(\".data\"),Files_Addresses)):\n",
    "    key=Extract_Key_From_Filename(File)\n",
    "    names_file=list(filter(lambda X:X.endswith(key+\".names\"),Files_Addresses))\n",
    "    print(key,names_file)\n",
    "    Column_list=Extract_Column_Name_From_File(\"Data\\\\\"+names_file[0])\n",
    "    DataFrames_Dictionary[key]=pd.read_csv(\"Data\\\\\"+File,names=Column_list,header=None)"
   ]
  },
  {
   "cell_type": "markdown",
   "metadata": {},
   "source": [
    "👩‍🔬 DataFrames Analyse"
   ]
  },
  {
   "cell_type": "code",
   "execution_count": 6,
   "metadata": {},
   "outputs": [
    {
     "data": {
      "text/html": [
       "<div>\n",
       "<style scoped>\n",
       "    .dataframe tbody tr th:only-of-type {\n",
       "        vertical-align: middle;\n",
       "    }\n",
       "\n",
       "    .dataframe tbody tr th {\n",
       "        vertical-align: top;\n",
       "    }\n",
       "\n",
       "    .dataframe thead th {\n",
       "        text-align: right;\n",
       "    }\n",
       "</style>\n",
       "<table border=\"1\" class=\"dataframe\">\n",
       "  <thead>\n",
       "    <tr style=\"text-align: right;\">\n",
       "      <th></th>\n",
       "      <th>sequence name</th>\n",
       "      <th>mcg</th>\n",
       "      <th>gvh</th>\n",
       "      <th>lip</th>\n",
       "      <th>chg</th>\n",
       "      <th>aac</th>\n",
       "      <th>alm1</th>\n",
       "      <th>alm2</th>\n",
       "    </tr>\n",
       "  </thead>\n",
       "  <tbody>\n",
       "    <tr>\n",
       "      <th>0</th>\n",
       "      <td>AAT_ECOLI\u001b0.49\u001b0.29\u001b0.48\u001b0.5\u001b0.56\u001b0.24\u001b0.35\u001bcp</td>\n",
       "      <td>NaN</td>\n",
       "      <td>NaN</td>\n",
       "      <td>NaN</td>\n",
       "      <td>NaN</td>\n",
       "      <td>NaN</td>\n",
       "      <td>NaN</td>\n",
       "      <td>NaN</td>\n",
       "    </tr>\n",
       "    <tr>\n",
       "      <th>1</th>\n",
       "      <td>ACEA_ECOLI\u001b0.07\u001b0.4\u001b0.48\u001b0.5\u001b0.54\u001b0.35\u001b0.44\u001bcp</td>\n",
       "      <td>NaN</td>\n",
       "      <td>NaN</td>\n",
       "      <td>NaN</td>\n",
       "      <td>NaN</td>\n",
       "      <td>NaN</td>\n",
       "      <td>NaN</td>\n",
       "      <td>NaN</td>\n",
       "    </tr>\n",
       "    <tr>\n",
       "      <th>2</th>\n",
       "      <td>ACEK_ECOLI\u001b0.56\u001b0.4\u001b0.48\u001b0.5\u001b0.49\u001b0.37\u001b0.46\u001bcp</td>\n",
       "      <td>NaN</td>\n",
       "      <td>NaN</td>\n",
       "      <td>NaN</td>\n",
       "      <td>NaN</td>\n",
       "      <td>NaN</td>\n",
       "      <td>NaN</td>\n",
       "      <td>NaN</td>\n",
       "    </tr>\n",
       "    <tr>\n",
       "      <th>3</th>\n",
       "      <td>ACKA_ECOLI\u001b0.59\u001b0.49\u001b0.48\u001b0.5\u001b0.52\u001b0.45\u001b0.36\u001bcp</td>\n",
       "      <td>NaN</td>\n",
       "      <td>NaN</td>\n",
       "      <td>NaN</td>\n",
       "      <td>NaN</td>\n",
       "      <td>NaN</td>\n",
       "      <td>NaN</td>\n",
       "      <td>NaN</td>\n",
       "    </tr>\n",
       "    <tr>\n",
       "      <th>4</th>\n",
       "      <td>ADI_ECOLI\u001b0.23\u001b0.32\u001b0.48\u001b0.5\u001b0.55\u001b0.25\u001b0.35\u001bcp</td>\n",
       "      <td>NaN</td>\n",
       "      <td>NaN</td>\n",
       "      <td>NaN</td>\n",
       "      <td>NaN</td>\n",
       "      <td>NaN</td>\n",
       "      <td>NaN</td>\n",
       "      <td>NaN</td>\n",
       "    </tr>\n",
       "  </tbody>\n",
       "</table>\n",
       "</div>"
      ],
      "text/plain": [
       "                                     sequence name  mcg  gvh  lip  chg  aac  \\\n",
       "0   AAT_ECOLI\u001b0.49\u001b0.29\u001b0.48\u001b0.5\u001b0.56\u001b0.24\u001b0.35\u001bcp  NaN  NaN  NaN  NaN  NaN   \n",
       "1   ACEA_ECOLI\u001b0.07\u001b0.4\u001b0.48\u001b0.5\u001b0.54\u001b0.35\u001b0.44\u001bcp  NaN  NaN  NaN  NaN  NaN   \n",
       "2   ACEK_ECOLI\u001b0.56\u001b0.4\u001b0.48\u001b0.5\u001b0.49\u001b0.37\u001b0.46\u001bcp  NaN  NaN  NaN  NaN  NaN   \n",
       "3  ACKA_ECOLI\u001b0.59\u001b0.49\u001b0.48\u001b0.5\u001b0.52\u001b0.45\u001b0.36\u001bcp  NaN  NaN  NaN  NaN  NaN   \n",
       "4   ADI_ECOLI\u001b0.23\u001b0.32\u001b0.48\u001b0.5\u001b0.55\u001b0.25\u001b0.35\u001bcp  NaN  NaN  NaN  NaN  NaN   \n",
       "\n",
       "   alm1  alm2  \n",
       "0   NaN   NaN  \n",
       "1   NaN   NaN  \n",
       "2   NaN   NaN  \n",
       "3   NaN   NaN  \n",
       "4   NaN   NaN  "
      ]
     },
     "execution_count": 6,
     "metadata": {},
     "output_type": "execute_result"
    }
   ],
   "source": [
    "DataFrame_index=1\n",
    "DataFrames_Names=list(DataFrames_Dictionary.keys())\n",
    "df=DataFrames_Dictionary.get(DataFrames_Names[DataFrame_index])\n",
    "df.head()"
   ]
  },
  {
   "cell_type": "code",
   "execution_count": 26,
   "metadata": {},
   "outputs": [
    {
     "name": "stderr",
     "output_type": "stream",
     "text": [
      "IOPub data rate exceeded.\n",
      "The notebook server will temporarily stop sending output\n",
      "to the client in order to avoid crashing it.\n",
      "To change this limit, set the config variable\n",
      "`--NotebookApp.iopub_data_rate_limit`.\n",
      "\n",
      "Current values:\n",
      "NotebookApp.iopub_data_rate_limit=1000000.0 (bytes/sec)\n",
      "NotebookApp.rate_limit_window=3.0 (secs)\n",
      "\n"
     ]
    }
   ],
   "source": [
    "file=open('Data\\\\03a-ecoli.data',mode='r+')\n",
    "text=file.read()\n",
    "\n",
    "reaesc = re.compile(r'\\x1b')\n",
    "new_text = reaesc.sub(',', text)\n",
    "file.write(new_text)\n",
    "print(new_text)\n",
    "file.close()\n"
   ]
  },
  {
   "cell_type": "code",
   "execution_count": 22,
   "metadata": {},
   "outputs": [
    {
     "data": {
      "text/plain": [
       "''"
      ]
     },
     "execution_count": 22,
     "metadata": {},
     "output_type": "execute_result"
    }
   ],
   "source": [
    "file=open('Data\\\\Test.data',mode='r')\n",
    "text=file.read()\n",
    "text"
   ]
  }
 ],
 "metadata": {
  "kernelspec": {
   "display_name": "Python 3",
   "language": "python",
   "name": "python3"
  },
  "language_info": {
   "codemirror_mode": {
    "name": "ipython",
    "version": 3
   },
   "file_extension": ".py",
   "mimetype": "text/x-python",
   "name": "python",
   "nbconvert_exporter": "python",
   "pygments_lexer": "ipython3",
   "version": "3.6.8"
  }
 },
 "nbformat": 4,
 "nbformat_minor": 2
}
